{
 "cells": [
  {
   "cell_type": "code",
   "execution_count": 2,
   "metadata": {},
   "outputs": [
    {
     "name": "stdout",
     "output_type": "stream",
     "text": [
      "Requirement already satisfied: numpy in c:\\users\\067\\appdata\\local\\programs\\python\\python311\\lib\\site-packages (1.24.3)\n",
      "Requirement already satisfied: install in c:\\users\\067\\appdata\\local\\programs\\python\\python311\\lib\\site-packages (1.3.5)\n",
      "Requirement already satisfied: tensorflow in c:\\users\\067\\appdata\\local\\programs\\python\\python311\\lib\\site-packages (2.13.0)\n",
      "Requirement already satisfied: tensorflow-intel==2.13.0 in c:\\users\\067\\appdata\\local\\programs\\python\\python311\\lib\\site-packages (from tensorflow) (2.13.0)\n",
      "Requirement already satisfied: absl-py>=1.0.0 in c:\\users\\067\\appdata\\local\\programs\\python\\python311\\lib\\site-packages (from tensorflow-intel==2.13.0->tensorflow) (1.4.0)\n",
      "Requirement already satisfied: astunparse>=1.6.0 in c:\\users\\067\\appdata\\local\\programs\\python\\python311\\lib\\site-packages (from tensorflow-intel==2.13.0->tensorflow) (1.6.3)\n",
      "Requirement already satisfied: flatbuffers>=23.1.21 in c:\\users\\067\\appdata\\local\\programs\\python\\python311\\lib\\site-packages (from tensorflow-intel==2.13.0->tensorflow) (23.5.26)\n",
      "Requirement already satisfied: gast<=0.4.0,>=0.2.1 in c:\\users\\067\\appdata\\local\\programs\\python\\python311\\lib\\site-packages (from tensorflow-intel==2.13.0->tensorflow) (0.4.0)\n",
      "Requirement already satisfied: google-pasta>=0.1.1 in c:\\users\\067\\appdata\\local\\programs\\python\\python311\\lib\\site-packages (from tensorflow-intel==2.13.0->tensorflow) (0.2.0)\n",
      "Requirement already satisfied: h5py>=2.9.0 in c:\\users\\067\\appdata\\local\\programs\\python\\python311\\lib\\site-packages (from tensorflow-intel==2.13.0->tensorflow) (3.9.0)\n",
      "Requirement already satisfied: libclang>=13.0.0 in c:\\users\\067\\appdata\\local\\programs\\python\\python311\\lib\\site-packages (from tensorflow-intel==2.13.0->tensorflow) (16.0.0)\n",
      "Requirement already satisfied: numpy<=1.24.3,>=1.22 in c:\\users\\067\\appdata\\local\\programs\\python\\python311\\lib\\site-packages (from tensorflow-intel==2.13.0->tensorflow) (1.24.3)\n",
      "Requirement already satisfied: opt-einsum>=2.3.2 in c:\\users\\067\\appdata\\local\\programs\\python\\python311\\lib\\site-packages (from tensorflow-intel==2.13.0->tensorflow) (3.3.0)\n",
      "Requirement already satisfied: packaging in c:\\users\\067\\appdata\\roaming\\python\\python311\\site-packages (from tensorflow-intel==2.13.0->tensorflow) (23.1)\n",
      "Requirement already satisfied: protobuf!=4.21.0,!=4.21.1,!=4.21.2,!=4.21.3,!=4.21.4,!=4.21.5,<5.0.0dev,>=3.20.3 in c:\\users\\067\\appdata\\local\\programs\\python\\python311\\lib\\site-packages (from tensorflow-intel==2.13.0->tensorflow) (4.23.4)\n",
      "Requirement already satisfied: setuptools in c:\\users\\067\\appdata\\local\\programs\\python\\python311\\lib\\site-packages (from tensorflow-intel==2.13.0->tensorflow) (65.5.0)\n",
      "Requirement already satisfied: six>=1.12.0 in c:\\users\\067\\appdata\\roaming\\python\\python311\\site-packages (from tensorflow-intel==2.13.0->tensorflow) (1.16.0)\n",
      "Requirement already satisfied: termcolor>=1.1.0 in c:\\users\\067\\appdata\\local\\programs\\python\\python311\\lib\\site-packages (from tensorflow-intel==2.13.0->tensorflow) (2.3.0)\n",
      "Requirement already satisfied: typing-extensions<4.6.0,>=3.6.6 in c:\\users\\067\\appdata\\local\\programs\\python\\python311\\lib\\site-packages (from tensorflow-intel==2.13.0->tensorflow) (4.5.0)\n",
      "Requirement already satisfied: wrapt>=1.11.0 in c:\\users\\067\\appdata\\local\\programs\\python\\python311\\lib\\site-packages (from tensorflow-intel==2.13.0->tensorflow) (1.15.0)\n",
      "Requirement already satisfied: grpcio<2.0,>=1.24.3 in c:\\users\\067\\appdata\\local\\programs\\python\\python311\\lib\\site-packages (from tensorflow-intel==2.13.0->tensorflow) (1.56.0)\n",
      "Requirement already satisfied: tensorboard<2.14,>=2.13 in c:\\users\\067\\appdata\\local\\programs\\python\\python311\\lib\\site-packages (from tensorflow-intel==2.13.0->tensorflow) (2.13.0)\n",
      "Requirement already satisfied: tensorflow-estimator<2.14,>=2.13.0 in c:\\users\\067\\appdata\\local\\programs\\python\\python311\\lib\\site-packages (from tensorflow-intel==2.13.0->tensorflow) (2.13.0)\n",
      "Requirement already satisfied: keras<2.14,>=2.13.1 in c:\\users\\067\\appdata\\local\\programs\\python\\python311\\lib\\site-packages (from tensorflow-intel==2.13.0->tensorflow) (2.13.1)\n",
      "Requirement already satisfied: tensorflow-io-gcs-filesystem>=0.23.1 in c:\\users\\067\\appdata\\local\\programs\\python\\python311\\lib\\site-packages (from tensorflow-intel==2.13.0->tensorflow) (0.31.0)\n",
      "Requirement already satisfied: wheel<1.0,>=0.23.0 in c:\\users\\067\\appdata\\local\\programs\\python\\python311\\lib\\site-packages (from astunparse>=1.6.0->tensorflow-intel==2.13.0->tensorflow) (0.40.0)\n",
      "Requirement already satisfied: google-auth<3,>=1.6.3 in c:\\users\\067\\appdata\\local\\programs\\python\\python311\\lib\\site-packages (from tensorboard<2.14,>=2.13->tensorflow-intel==2.13.0->tensorflow) (2.21.0)\n",
      "Requirement already satisfied: google-auth-oauthlib<1.1,>=0.5 in c:\\users\\067\\appdata\\local\\programs\\python\\python311\\lib\\site-packages (from tensorboard<2.14,>=2.13->tensorflow-intel==2.13.0->tensorflow) (1.0.0)\n",
      "Requirement already satisfied: markdown>=2.6.8 in c:\\users\\067\\appdata\\local\\programs\\python\\python311\\lib\\site-packages (from tensorboard<2.14,>=2.13->tensorflow-intel==2.13.0->tensorflow) (3.4.3)\n",
      "Requirement already satisfied: requests<3,>=2.21.0 in c:\\users\\067\\appdata\\local\\programs\\python\\python311\\lib\\site-packages (from tensorboard<2.14,>=2.13->tensorflow-intel==2.13.0->tensorflow) (2.31.0)\n",
      "Requirement already satisfied: tensorboard-data-server<0.8.0,>=0.7.0 in c:\\users\\067\\appdata\\local\\programs\\python\\python311\\lib\\site-packages (from tensorboard<2.14,>=2.13->tensorflow-intel==2.13.0->tensorflow) (0.7.1)\n",
      "Requirement already satisfied: werkzeug>=1.0.1 in c:\\users\\067\\appdata\\local\\programs\\python\\python311\\lib\\site-packages (from tensorboard<2.14,>=2.13->tensorflow-intel==2.13.0->tensorflow) (2.3.6)\n",
      "Requirement already satisfied: cachetools<6.0,>=2.0.0 in c:\\users\\067\\appdata\\local\\programs\\python\\python311\\lib\\site-packages (from google-auth<3,>=1.6.3->tensorboard<2.14,>=2.13->tensorflow-intel==2.13.0->tensorflow) (5.3.1)\n",
      "Requirement already satisfied: pyasn1-modules>=0.2.1 in c:\\users\\067\\appdata\\local\\programs\\python\\python311\\lib\\site-packages (from google-auth<3,>=1.6.3->tensorboard<2.14,>=2.13->tensorflow-intel==2.13.0->tensorflow) (0.3.0)\n",
      "Requirement already satisfied: rsa<5,>=3.1.4 in c:\\users\\067\\appdata\\local\\programs\\python\\python311\\lib\\site-packages (from google-auth<3,>=1.6.3->tensorboard<2.14,>=2.13->tensorflow-intel==2.13.0->tensorflow) (4.9)\n",
      "Requirement already satisfied: urllib3<2.0 in c:\\users\\067\\appdata\\local\\programs\\python\\python311\\lib\\site-packages (from google-auth<3,>=1.6.3->tensorboard<2.14,>=2.13->tensorflow-intel==2.13.0->tensorflow) (1.26.16)\n",
      "Requirement already satisfied: requests-oauthlib>=0.7.0 in c:\\users\\067\\appdata\\local\\programs\\python\\python311\\lib\\site-packages (from google-auth-oauthlib<1.1,>=0.5->tensorboard<2.14,>=2.13->tensorflow-intel==2.13.0->tensorflow) (1.3.1)\n",
      "Requirement already satisfied: charset-normalizer<4,>=2 in c:\\users\\067\\appdata\\local\\programs\\python\\python311\\lib\\site-packages (from requests<3,>=2.21.0->tensorboard<2.14,>=2.13->tensorflow-intel==2.13.0->tensorflow) (3.2.0)\n",
      "Requirement already satisfied: idna<4,>=2.5 in c:\\users\\067\\appdata\\local\\programs\\python\\python311\\lib\\site-packages (from requests<3,>=2.21.0->tensorboard<2.14,>=2.13->tensorflow-intel==2.13.0->tensorflow) (3.4)\n",
      "Requirement already satisfied: certifi>=2017.4.17 in c:\\users\\067\\appdata\\local\\programs\\python\\python311\\lib\\site-packages (from requests<3,>=2.21.0->tensorboard<2.14,>=2.13->tensorflow-intel==2.13.0->tensorflow) (2023.5.7)\n",
      "Requirement already satisfied: MarkupSafe>=2.1.1 in c:\\users\\067\\appdata\\local\\programs\\python\\python311\\lib\\site-packages (from werkzeug>=1.0.1->tensorboard<2.14,>=2.13->tensorflow-intel==2.13.0->tensorflow) (2.1.3)\n",
      "Requirement already satisfied: pyasn1<0.6.0,>=0.4.6 in c:\\users\\067\\appdata\\local\\programs\\python\\python311\\lib\\site-packages (from pyasn1-modules>=0.2.1->google-auth<3,>=1.6.3->tensorboard<2.14,>=2.13->tensorflow-intel==2.13.0->tensorflow) (0.5.0)\n",
      "Requirement already satisfied: oauthlib>=3.0.0 in c:\\users\\067\\appdata\\local\\programs\\python\\python311\\lib\\site-packages (from requests-oauthlib>=0.7.0->google-auth-oauthlib<1.1,>=0.5->tensorboard<2.14,>=2.13->tensorflow-intel==2.13.0->tensorflow) (3.2.2)\n",
      "Requirement already satisfied: matplotlib in c:\\users\\067\\appdata\\local\\programs\\python\\python311\\lib\\site-packages (3.7.2)\n",
      "Requirement already satisfied: contourpy>=1.0.1 in c:\\users\\067\\appdata\\local\\programs\\python\\python311\\lib\\site-packages (from matplotlib) (1.1.0)\n",
      "Requirement already satisfied: cycler>=0.10 in c:\\users\\067\\appdata\\local\\programs\\python\\python311\\lib\\site-packages (from matplotlib) (0.11.0)\n",
      "Requirement already satisfied: fonttools>=4.22.0 in c:\\users\\067\\appdata\\local\\programs\\python\\python311\\lib\\site-packages (from matplotlib) (4.40.0)\n",
      "Requirement already satisfied: kiwisolver>=1.0.1 in c:\\users\\067\\appdata\\local\\programs\\python\\python311\\lib\\site-packages (from matplotlib) (1.4.4)\n",
      "Requirement already satisfied: numpy>=1.20 in c:\\users\\067\\appdata\\local\\programs\\python\\python311\\lib\\site-packages (from matplotlib) (1.24.3)\n",
      "Requirement already satisfied: packaging>=20.0 in c:\\users\\067\\appdata\\roaming\\python\\python311\\site-packages (from matplotlib) (23.1)\n",
      "Requirement already satisfied: pillow>=6.2.0 in c:\\users\\067\\appdata\\local\\programs\\python\\python311\\lib\\site-packages (from matplotlib) (10.0.0)\n",
      "Requirement already satisfied: pyparsing<3.1,>=2.3.1 in c:\\users\\067\\appdata\\local\\programs\\python\\python311\\lib\\site-packages (from matplotlib) (3.0.9)\n",
      "Requirement already satisfied: python-dateutil>=2.7 in c:\\users\\067\\appdata\\roaming\\python\\python311\\site-packages (from matplotlib) (2.8.2)\n",
      "Requirement already satisfied: six>=1.5 in c:\\users\\067\\appdata\\roaming\\python\\python311\\site-packages (from python-dateutil>=2.7->matplotlib) (1.16.0)\n",
      "Requirement already satisfied: pandas in c:\\users\\067\\appdata\\local\\programs\\python\\python311\\lib\\site-packages (2.0.3)\n",
      "Requirement already satisfied: python-dateutil>=2.8.2 in c:\\users\\067\\appdata\\roaming\\python\\python311\\site-packages (from pandas) (2.8.2)\n",
      "Requirement already satisfied: pytz>=2020.1 in c:\\users\\067\\appdata\\local\\programs\\python\\python311\\lib\\site-packages (from pandas) (2023.3)\n",
      "Requirement already satisfied: tzdata>=2022.1 in c:\\users\\067\\appdata\\local\\programs\\python\\python311\\lib\\site-packages (from pandas) (2023.3)\n",
      "Requirement already satisfied: numpy>=1.21.0 in c:\\users\\067\\appdata\\local\\programs\\python\\python311\\lib\\site-packages (from pandas) (1.24.3)\n",
      "Requirement already satisfied: six>=1.5 in c:\\users\\067\\appdata\\roaming\\python\\python311\\site-packages (from python-dateutil>=2.8.2->pandas) (1.16.0)\n"
     ]
    },
    {
     "name": "stderr",
     "output_type": "stream",
     "text": [
      "ERROR: Could not find a version that satisfies the requirement glob (from versions: none)\n",
      "ERROR: No matching distribution found for glob\n"
     ]
    },
    {
     "name": "stdout",
     "output_type": "stream",
     "text": [
      "Collecting opencv-python\n",
      "  Downloading opencv_python-4.8.0.74-cp37-abi3-win_amd64.whl (38.1 MB)\n",
      "                                              0.0/38.1 MB ? eta -:--:--\n",
      "                                              0.6/38.1 MB 12.0 MB/s eta 0:00:04\n",
      "     -                                        1.2/38.1 MB 13.1 MB/s eta 0:00:03\n",
      "     --                                       1.9/38.1 MB 13.7 MB/s eta 0:00:03\n",
      "     --                                       2.8/38.1 MB 14.7 MB/s eta 0:00:03\n",
      "     ---                                      3.6/38.1 MB 16.4 MB/s eta 0:00:03\n",
      "     ----                                     4.5/38.1 MB 16.9 MB/s eta 0:00:02\n",
      "     -----                                    5.1/38.1 MB 16.1 MB/s eta 0:00:03\n",
      "     ------                                   5.9/38.1 MB 17.1 MB/s eta 0:00:02\n",
      "     ------                                   6.3/38.1 MB 16.7 MB/s eta 0:00:02\n",
      "     -------                                  6.8/38.1 MB 16.0 MB/s eta 0:00:02\n",
      "     -------                                  7.6/38.1 MB 16.1 MB/s eta 0:00:02\n",
      "     --------                                 8.4/38.1 MB 16.9 MB/s eta 0:00:02\n",
      "     ---------                                9.2/38.1 MB 16.8 MB/s eta 0:00:02\n",
      "     ----------                               9.8/38.1 MB 16.5 MB/s eta 0:00:02\n",
      "     ----------                              10.3/38.1 MB 16.4 MB/s eta 0:00:02\n",
      "     -----------                             10.9/38.1 MB 16.8 MB/s eta 0:00:02\n",
      "     -----------                             11.6/38.1 MB 16.4 MB/s eta 0:00:02\n",
      "     ------------                            12.2/38.1 MB 16.4 MB/s eta 0:00:02\n",
      "     ------------                            12.6/38.1 MB 15.6 MB/s eta 0:00:02\n",
      "     -------------                           12.9/38.1 MB 14.9 MB/s eta 0:00:02\n",
      "     -------------                           13.3/38.1 MB 14.6 MB/s eta 0:00:02\n",
      "     --------------                          13.7/38.1 MB 14.2 MB/s eta 0:00:02\n",
      "     --------------                          14.3/38.1 MB 13.9 MB/s eta 0:00:02\n",
      "     ---------------                         14.9/38.1 MB 13.6 MB/s eta 0:00:02\n",
      "     ----------------                        15.6/38.1 MB 13.6 MB/s eta 0:00:02\n",
      "     ----------------                        16.3/38.1 MB 13.6 MB/s eta 0:00:02\n",
      "     -----------------                       17.0/38.1 MB 13.9 MB/s eta 0:00:02\n",
      "     ------------------                      17.7/38.1 MB 13.9 MB/s eta 0:00:02\n",
      "     ------------------                      18.4/38.1 MB 13.9 MB/s eta 0:00:02\n",
      "     -------------------                     19.1/38.1 MB 13.6 MB/s eta 0:00:02\n",
      "     --------------------                    19.8/38.1 MB 13.9 MB/s eta 0:00:02\n",
      "     ---------------------                   20.6/38.1 MB 14.5 MB/s eta 0:00:02\n",
      "     ---------------------                   21.3/38.1 MB 14.6 MB/s eta 0:00:02\n",
      "     ----------------------                  22.0/38.1 MB 14.2 MB/s eta 0:00:02\n",
      "     -----------------------                 22.7/38.1 MB 14.9 MB/s eta 0:00:02\n",
      "     ------------------------                23.5/38.1 MB 16.8 MB/s eta 0:00:01\n",
      "     -------------------------               24.5/38.1 MB 17.7 MB/s eta 0:00:01\n",
      "     -------------------------               25.2/38.1 MB 17.7 MB/s eta 0:00:01\n",
      "     -------------------------               25.2/38.1 MB 17.7 MB/s eta 0:00:01\n",
      "     -------------------------               25.2/38.1 MB 17.7 MB/s eta 0:00:01\n",
      "     --------------------------              25.6/38.1 MB 14.9 MB/s eta 0:00:01\n",
      "     ---------------------------             26.4/38.1 MB 14.9 MB/s eta 0:00:01\n",
      "     ---------------------------             27.1/38.1 MB 14.9 MB/s eta 0:00:01\n",
      "     ----------------------------            27.8/38.1 MB 14.6 MB/s eta 0:00:01\n",
      "     -----------------------------           28.6/38.1 MB 14.6 MB/s eta 0:00:01\n",
      "     ------------------------------          29.3/38.1 MB 14.6 MB/s eta 0:00:01\n",
      "     ------------------------------          30.0/38.1 MB 14.6 MB/s eta 0:00:01\n",
      "     -------------------------------         30.5/38.1 MB 14.2 MB/s eta 0:00:01\n",
      "     -------------------------------         31.2/38.1 MB 14.2 MB/s eta 0:00:01\n",
      "     --------------------------------        31.7/38.1 MB 14.2 MB/s eta 0:00:01\n",
      "     ---------------------------------       32.5/38.1 MB 13.9 MB/s eta 0:00:01\n",
      "     ----------------------------------      33.2/38.1 MB 13.9 MB/s eta 0:00:01\n",
      "     ----------------------------------      34.0/38.1 MB 13.6 MB/s eta 0:00:01\n",
      "     -----------------------------------     34.9/38.1 MB 13.9 MB/s eta 0:00:01\n",
      "     ------------------------------------    35.4/38.1 MB 16.4 MB/s eta 0:00:01\n",
      "     -------------------------------------   36.1/38.1 MB 16.0 MB/s eta 0:00:01\n",
      "     -------------------------------------   36.7/38.1 MB 16.0 MB/s eta 0:00:01\n",
      "     --------------------------------------  37.4/38.1 MB 16.0 MB/s eta 0:00:01\n",
      "     --------------------------------------  38.1/38.1 MB 16.0 MB/s eta 0:00:01\n",
      "     --------------------------------------  38.1/38.1 MB 16.0 MB/s eta 0:00:01\n",
      "     --------------------------------------- 38.1/38.1 MB 14.2 MB/s eta 0:00:00\n",
      "Requirement already satisfied: numpy>=1.21.2 in c:\\users\\067\\appdata\\local\\programs\\python\\python311\\lib\\site-packages (from opencv-python) (1.24.3)\n",
      "Installing collected packages: opencv-python\n",
      "Successfully installed opencv-python-4.8.0.74\n"
     ]
    }
   ],
   "source": [
    "!pip3 install numpy\n",
    "!pip3 install install tensorflow\n",
    "!pip3 install matplotlib\n",
    "!pip3 install pandas\n",
    "!pip3 install glob\n",
    "!pip3 install opencv-python"
   ]
  },
  {
   "cell_type": "code",
   "execution_count": 27,
   "metadata": {},
   "outputs": [],
   "source": [
    "import pandas as pd\n",
    "import numpy as np\n",
    "import tensorflow as tf\n",
    "import os\n",
    "import matplotlib.pyplot as plt\n",
    "import cv2"
   ]
  },
  {
   "cell_type": "code",
   "execution_count": 49,
   "metadata": {},
   "outputs": [
    {
     "name": "stdout",
     "output_type": "stream",
     "text": [
      "c:\\Users\\067\\flyai\\homework\\postmerge\n"
     ]
    },
    {
     "data": {
      "text/plain": [
       "(1000, 1000, 1000, 1000)"
      ]
     },
     "execution_count": 49,
     "metadata": {},
     "output_type": "execute_result"
    }
   ],
   "source": [
    "from glob import glob\n",
    "\n",
    "print (os.getcwd())\n",
    "train_path = \"100_1\"\n",
    "test_path = \"100_2\"\n",
    "\n",
    "\n",
    "train_imgs_path = []\n",
    "test_imgs_path = []\n",
    "\n",
    "X_train = []\n",
    "y_train = []\n",
    "\n",
    "X_test = []\n",
    "y_test = []\n",
    "for id in range(10):\n",
    "    current_id_train_imgs_path = glob (f\"{train_path}/{id}/*.jpg\")\n",
    "    current_id_train_imgs_size = len(current_id_train_imgs_path)\n",
    "\n",
    "    train_imgs_path += current_id_train_imgs_path\n",
    "\n",
    "    current_id_test_imgs_path = glob(f\"{test_path}/{id}/*.jpg\")\n",
    "    current_id_test_imgs_size = len(current_id_test_imgs_path)\n",
    "\n",
    "    test_imgs_path += current_id_test_imgs_path\n",
    "\n",
    "\n",
    "    y_train += [id] * current_id_train_imgs_size\n",
    "    y_test += [id] * current_id_test_imgs_size\n",
    "y_train = np.array(y_train).astype('float32')\n",
    "y_test = np.array(y_test).astype('float32')\n",
    "len(train_imgs_path), len(test_imgs_path), len (y_train), len(y_test)"
   ]
  },
  {
   "cell_type": "code",
   "execution_count": 51,
   "metadata": {},
   "outputs": [],
   "source": [
    "train_imgs_list = []\n",
    "test_imgs_list = []\n",
    "for path in train_imgs_path:\n",
    "    train_imgs_list.append(cv2.imread(path, cv2.IMREAD_GRAYSCALE))\n",
    "for path in test_imgs_path:\n",
    "    test_imgs_list.append(cv2.imread(path, cv2.IMREAD_GRAYSCALE))\n",
    "\n",
    "X_train = np.array(train_imgs_list).reshape(-1, 28, 28, 1).astype('float32')\n",
    "X_test = np.array(test_imgs_list).reshape(-1, 28, 28, 1).astype('float32')"
   ]
  },
  {
   "cell_type": "code",
   "execution_count": 52,
   "metadata": {},
   "outputs": [
    {
     "data": {
      "text/plain": [
       "((1000, 28, 28, 1), (1000, 28, 28, 1))"
      ]
     },
     "execution_count": 52,
     "metadata": {},
     "output_type": "execute_result"
    }
   ],
   "source": [
    "X_train.shape, X_test.shape"
   ]
  },
  {
   "cell_type": "code",
   "execution_count": 53,
   "metadata": {},
   "outputs": [
    {
     "data": {
      "text/plain": [
       "array([0.], dtype=float32)"
      ]
     },
     "execution_count": 53,
     "metadata": {},
     "output_type": "execute_result"
    }
   ],
   "source": [
    "y_train[:1]"
   ]
  },
  {
   "cell_type": "code",
   "execution_count": 56,
   "metadata": {},
   "outputs": [],
   "source": [
    "from keras import layers\n",
    "from keras import Sequential\n",
    "from keras.callbacks import EarlyStopping\n",
    "\n",
    "model = Sequential([\n",
    "    layers.Conv2D(8, (2, 2), activation='relu'),\n",
    "    layers.Flatten(),\n",
    "    layers.Dense(100, activation='relu'),\n",
    "    layers.Dense(50, activation='relu'),\n",
    "    layers.Dense(10, activation='softmax')\n",
    "])\n",
    "model.compile(\n",
    "    optimizer = 'adam',\n",
    "    loss = 'sparse_categorical_crossentropy',\n",
    "    metrics= ['accuracy']\n",
    ")\n",
    "es = EarlyStopping(patience=10)\n"
   ]
  },
  {
   "cell_type": "code",
   "execution_count": 59,
   "metadata": {},
   "outputs": [
    {
     "name": "stdout",
     "output_type": "stream",
     "text": [
      "Epoch 1/100\n",
      "25/25 [==============================] - 0s 9ms/step - loss: 1.2560e-05 - accuracy: 1.0000 - val_loss: 4.1634e-05 - val_accuracy: 1.0000\n",
      "Epoch 2/100\n",
      "25/25 [==============================] - 0s 7ms/step - loss: 1.2251e-05 - accuracy: 1.0000 - val_loss: 4.3502e-05 - val_accuracy: 1.0000\n",
      "Epoch 3/100\n",
      "25/25 [==============================] - 0s 6ms/step - loss: 1.1952e-05 - accuracy: 1.0000 - val_loss: 4.5176e-05 - val_accuracy: 1.0000\n",
      "Epoch 4/100\n",
      "25/25 [==============================] - 0s 6ms/step - loss: 1.1677e-05 - accuracy: 1.0000 - val_loss: 4.6807e-05 - val_accuracy: 1.0000\n",
      "Epoch 5/100\n",
      "25/25 [==============================] - 0s 6ms/step - loss: 1.1395e-05 - accuracy: 1.0000 - val_loss: 4.8840e-05 - val_accuracy: 1.0000\n",
      "Epoch 6/100\n",
      "25/25 [==============================] - 0s 7ms/step - loss: 1.1133e-05 - accuracy: 1.0000 - val_loss: 5.0525e-05 - val_accuracy: 1.0000\n",
      "Epoch 7/100\n",
      "25/25 [==============================] - 0s 6ms/step - loss: 1.0886e-05 - accuracy: 1.0000 - val_loss: 5.2386e-05 - val_accuracy: 1.0000\n",
      "Epoch 8/100\n",
      "25/25 [==============================] - 0s 6ms/step - loss: 1.0650e-05 - accuracy: 1.0000 - val_loss: 5.4299e-05 - val_accuracy: 1.0000\n",
      "Epoch 9/100\n",
      "25/25 [==============================] - 0s 6ms/step - loss: 1.0425e-05 - accuracy: 1.0000 - val_loss: 5.6310e-05 - val_accuracy: 1.0000\n",
      "Epoch 10/100\n",
      "25/25 [==============================] - 0s 6ms/step - loss: 1.0196e-05 - accuracy: 1.0000 - val_loss: 5.7904e-05 - val_accuracy: 1.0000\n",
      "Epoch 11/100\n",
      "25/25 [==============================] - 0s 6ms/step - loss: 9.9936e-06 - accuracy: 1.0000 - val_loss: 5.9834e-05 - val_accuracy: 1.0000\n"
     ]
    }
   ],
   "source": [
    "history = model.fit(X_train, y_train, epochs = 100, validation_split = 0.2, callbacks=[es])"
   ]
  },
  {
   "cell_type": "code",
   "execution_count": null,
   "metadata": {},
   "outputs": [],
   "source": []
  }
 ],
 "metadata": {
  "kernelspec": {
   "display_name": "Python 3",
   "language": "python",
   "name": "python3"
  },
  "language_info": {
   "codemirror_mode": {
    "name": "ipython",
    "version": 3
   },
   "file_extension": ".py",
   "mimetype": "text/x-python",
   "name": "python",
   "nbconvert_exporter": "python",
   "pygments_lexer": "ipython3",
   "version": "3.11.4"
  },
  "orig_nbformat": 4
 },
 "nbformat": 4,
 "nbformat_minor": 2
}
